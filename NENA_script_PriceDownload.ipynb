{
  "nbformat": 4,
  "nbformat_minor": 0,
  "metadata": {
    "colab": {
      "name": "NENA_script_PriceDownload.ipynb",
      "provenance": [],
      "collapsed_sections": [],
      "toc_visible": true,
      "authorship_tag": "ABX9TyO2LygoQug6H47GjRLpbxwZ",
      "include_colab_link": true
    },
    "kernelspec": {
      "name": "python3",
      "display_name": "Python 3"
    },
    "language_info": {
      "name": "python"
    }
  },
  "cells": [
    {
      "cell_type": "markdown",
      "metadata": {
        "id": "view-in-github",
        "colab_type": "text"
      },
      "source": [
        "<a href=\"https://colab.research.google.com/github/kamikater34/AutomaticTextSummarization/blob/master/NENA_script_PriceDownload.ipynb\" target=\"_parent\"><img src=\"https://colab.research.google.com/assets/colab-badge.svg\" alt=\"Open In Colab\"/></a>"
      ]
    },
    {
      "cell_type": "code",
      "metadata": {
        "id": "ZF--oi9eKSIg"
      },
      "source": [
        "import requests\n",
        "import json\n",
        "# this allows for more processing\n",
        "import pandas as pd\n",
        "from dateutil.parser import parse\n",
        "\n",
        "\n",
        "API_TOKEN = None\n",
        "\n",
        "API_LOGIN_ENDPOINT = \"https://api.nena.no/api/user/login\"\n",
        "API_DATA_ENDPOINT = \"https://api.nena.no/api/fundamental/series\"\n",
        "\n",
        "SERIES_PREFIX = 'athr' #Austrian Hourly series\n",
        "SERIES_CODES = ['cons', 'wind', 'price'] #Consumption, Wind, Price\n",
        "\n",
        "\n",
        "def main():\n",
        "    headers = {\n",
        "        'Content-Type': 'application/json',\n",
        "        'Accept': 'application / json'}\n",
        "\n",
        "    #STEP 1 Getting a authentication token from API\n",
        "    LOGIN_PARAMS = {'UserName' : \"kelag.struckl\", 'Password' : \"dlE8oSOHm4\"}\n",
        "    login_res = requests.post(url = API_LOGIN_ENDPOINT, data=json.dumps(LOGIN_PARAMS), headers = headers)\n",
        "    login_res_dic = json.loads(login_res.text)\n",
        "    API_TOKEN = login_res_dic[\"Token\"]\n",
        "\n",
        "    for ser_code in SERIES_CODES:\n",
        "        #STEP 2 Getting Data using received token\n",
        "        DATA_PARAMS= {\n",
        "            \"FromDateTime\": \"2021-05-05\",  # or any date in yyyy-mm-dd format\n",
        "            \"ToDateTime\": \"today+15\",  # today + 14 days ahead or any date ahead in yyyy-mm-dd format\n",
        "            \"Resolution\": \"hour\",\n",
        "            \"SeriesId\": SERIES_PREFIX + ser_code,\n",
        "            \"UserInfo\": {\n",
        "                \"UserName\": \"kelag.struckl\",\n",
        "                \"Token\": API_TOKEN\n",
        "            }\n",
        "        }\n",
        "        data_res = requests.post(url=API_DATA_ENDPOINT, data=json.dumps(DATA_PARAMS), headers=headers).json()\n",
        "        \n",
        "        #parse dates in the Values dictionary\n",
        "        parse_data_res = {parse(k): float(v) for k,v in data_res[\"Values\"].items()}\n",
        "        \n",
        "        #make a pandas dataframe \n",
        "        df = pd.DataFrame(list(parse_data_res.items()))\n",
        "        df.columns = ['Date', 'AUSTRIA '+ ser_code.upper()]\n",
        "        df = df.set_index('Date') \n",
        "        \n",
        "        #Create an excel file per series code from dataframe\n",
        "        df.to_excel('AT_'+ser_code+ '.xls', )\n",
        "\n",
        "if __name__ == '__main__':\n",
        "    main()\n"
      ],
      "execution_count": 3,
      "outputs": []
    },
    {
      "cell_type": "code",
      "metadata": {
        "colab": {
          "base_uri": "https://localhost:8080/"
        },
        "id": "AGobRZK1L7mh",
        "outputId": "1d24047e-177c-4c9f-f9a9-62b4a84c61ef"
      },
      "source": [
        "!pwd\n"
      ],
      "execution_count": 4,
      "outputs": [
        {
          "output_type": "stream",
          "text": [
            "/content\n"
          ],
          "name": "stdout"
        }
      ]
    }
  ]
}